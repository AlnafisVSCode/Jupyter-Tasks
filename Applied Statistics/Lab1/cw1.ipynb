{
  "cells": [
    {
      "cell_type": "markdown",
      "metadata": {
        "id": "pXK4nlLBQk5y"
      },
      "source": [
        "# Question 1"
      ]
    },
    {
      "cell_type": "code",
      "execution_count": 1,
      "metadata": {
        "id": "0j5US1ceQk5y"
      },
      "outputs": [],
      "source": [
        "import numpy as np\n",
        "import pandas as pd"
      ]
    },
    {
      "cell_type": "code",
      "execution_count": 2,
      "metadata": {
        "id": "GZI6-k1zQk50"
      },
      "outputs": [],
      "source": [
        "# SYB64_246_202110_Population Growth, Fertility and Mortality Indicators\n",
        "dataset = pd.read_csv(\"http://data.un.org/_Docs/SYB/CSV/SYB64_246_202110_Population%20Growth,%20Fertility%20and%20Mortality%20Indicators.csv\", encoding = 'ISO-8859-1', skiprows=1)\n",
        "\n"
      ]
    },
    {
      "cell_type": "code",
      "execution_count": 3,
      "metadata": {
        "colab": {
          "base_uri": "https://localhost:8080/",
          "height": 206
        },
        "id": "unMf4UsLQk50",
        "outputId": "551221ca-1b8a-4fca-b43b-ffcfaa4d9cb6"
      },
      "outputs": [
        {
          "output_type": "execute_result",
          "data": {
            "text/plain": [
              "   Region/Country/Area                     Unnamed: 1  Year  \\\n",
              "0                    1  Total, all countries or areas  2010   \n",
              "1                    1  Total, all countries or areas  2010   \n",
              "2                    1  Total, all countries or areas  2010   \n",
              "3                    1  Total, all countries or areas  2010   \n",
              "4                    1  Total, all countries or areas  2010   \n",
              "\n",
              "                                              Series Value  \\\n",
              "0       Population annual rate of increase (percent)   1.2   \n",
              "1          Total fertility rate (children per women)   2.6   \n",
              "2  Infant mortality for both sexes (per 1,000 liv...  41.0   \n",
              "3  Maternal mortality ratio (deaths per 100,000 p...   248   \n",
              "4    Life expectancy at birth for both sexes (years)  68.9   \n",
              "\n",
              "                                           Footnotes  \\\n",
              "0  Data refers to a 5-year period preceding the r...   \n",
              "1  Data refers to a 5-year period preceding the r...   \n",
              "2  Data refers to a 5-year period preceding the r...   \n",
              "3                                                NaN   \n",
              "4  Data refers to a 5-year period preceding the r...   \n",
              "\n",
              "                                              Source  \n",
              "0  United Nations Population Division, New York, ...  \n",
              "1  United Nations Population Division, New York, ...  \n",
              "2  United Nations Statistics Division, New York, ...  \n",
              "3  World Health Organization (WHO), the United Na...  \n",
              "4  United Nations Population Division, New York, ...  "
            ],
            "text/html": [
              "\n",
              "  <div id=\"df-c542a0a8-ea1a-48a5-8ee6-c7b301c10d6f\">\n",
              "    <div class=\"colab-df-container\">\n",
              "      <div>\n",
              "<style scoped>\n",
              "    .dataframe tbody tr th:only-of-type {\n",
              "        vertical-align: middle;\n",
              "    }\n",
              "\n",
              "    .dataframe tbody tr th {\n",
              "        vertical-align: top;\n",
              "    }\n",
              "\n",
              "    .dataframe thead th {\n",
              "        text-align: right;\n",
              "    }\n",
              "</style>\n",
              "<table border=\"1\" class=\"dataframe\">\n",
              "  <thead>\n",
              "    <tr style=\"text-align: right;\">\n",
              "      <th></th>\n",
              "      <th>Region/Country/Area</th>\n",
              "      <th>Unnamed: 1</th>\n",
              "      <th>Year</th>\n",
              "      <th>Series</th>\n",
              "      <th>Value</th>\n",
              "      <th>Footnotes</th>\n",
              "      <th>Source</th>\n",
              "    </tr>\n",
              "  </thead>\n",
              "  <tbody>\n",
              "    <tr>\n",
              "      <th>0</th>\n",
              "      <td>1</td>\n",
              "      <td>Total, all countries or areas</td>\n",
              "      <td>2010</td>\n",
              "      <td>Population annual rate of increase (percent)</td>\n",
              "      <td>1.2</td>\n",
              "      <td>Data refers to a 5-year period preceding the r...</td>\n",
              "      <td>United Nations Population Division, New York, ...</td>\n",
              "    </tr>\n",
              "    <tr>\n",
              "      <th>1</th>\n",
              "      <td>1</td>\n",
              "      <td>Total, all countries or areas</td>\n",
              "      <td>2010</td>\n",
              "      <td>Total fertility rate (children per women)</td>\n",
              "      <td>2.6</td>\n",
              "      <td>Data refers to a 5-year period preceding the r...</td>\n",
              "      <td>United Nations Population Division, New York, ...</td>\n",
              "    </tr>\n",
              "    <tr>\n",
              "      <th>2</th>\n",
              "      <td>1</td>\n",
              "      <td>Total, all countries or areas</td>\n",
              "      <td>2010</td>\n",
              "      <td>Infant mortality for both sexes (per 1,000 liv...</td>\n",
              "      <td>41.0</td>\n",
              "      <td>Data refers to a 5-year period preceding the r...</td>\n",
              "      <td>United Nations Statistics Division, New York, ...</td>\n",
              "    </tr>\n",
              "    <tr>\n",
              "      <th>3</th>\n",
              "      <td>1</td>\n",
              "      <td>Total, all countries or areas</td>\n",
              "      <td>2010</td>\n",
              "      <td>Maternal mortality ratio (deaths per 100,000 p...</td>\n",
              "      <td>248</td>\n",
              "      <td>NaN</td>\n",
              "      <td>World Health Organization (WHO), the United Na...</td>\n",
              "    </tr>\n",
              "    <tr>\n",
              "      <th>4</th>\n",
              "      <td>1</td>\n",
              "      <td>Total, all countries or areas</td>\n",
              "      <td>2010</td>\n",
              "      <td>Life expectancy at birth for both sexes (years)</td>\n",
              "      <td>68.9</td>\n",
              "      <td>Data refers to a 5-year period preceding the r...</td>\n",
              "      <td>United Nations Population Division, New York, ...</td>\n",
              "    </tr>\n",
              "  </tbody>\n",
              "</table>\n",
              "</div>\n",
              "      <button class=\"colab-df-convert\" onclick=\"convertToInteractive('df-c542a0a8-ea1a-48a5-8ee6-c7b301c10d6f')\"\n",
              "              title=\"Convert this dataframe to an interactive table.\"\n",
              "              style=\"display:none;\">\n",
              "        \n",
              "  <svg xmlns=\"http://www.w3.org/2000/svg\" height=\"24px\"viewBox=\"0 0 24 24\"\n",
              "       width=\"24px\">\n",
              "    <path d=\"M0 0h24v24H0V0z\" fill=\"none\"/>\n",
              "    <path d=\"M18.56 5.44l.94 2.06.94-2.06 2.06-.94-2.06-.94-.94-2.06-.94 2.06-2.06.94zm-11 1L8.5 8.5l.94-2.06 2.06-.94-2.06-.94L8.5 2.5l-.94 2.06-2.06.94zm10 10l.94 2.06.94-2.06 2.06-.94-2.06-.94-.94-2.06-.94 2.06-2.06.94z\"/><path d=\"M17.41 7.96l-1.37-1.37c-.4-.4-.92-.59-1.43-.59-.52 0-1.04.2-1.43.59L10.3 9.45l-7.72 7.72c-.78.78-.78 2.05 0 2.83L4 21.41c.39.39.9.59 1.41.59.51 0 1.02-.2 1.41-.59l7.78-7.78 2.81-2.81c.8-.78.8-2.07 0-2.86zM5.41 20L4 18.59l7.72-7.72 1.47 1.35L5.41 20z\"/>\n",
              "  </svg>\n",
              "      </button>\n",
              "      \n",
              "  <style>\n",
              "    .colab-df-container {\n",
              "      display:flex;\n",
              "      flex-wrap:wrap;\n",
              "      gap: 12px;\n",
              "    }\n",
              "\n",
              "    .colab-df-convert {\n",
              "      background-color: #E8F0FE;\n",
              "      border: none;\n",
              "      border-radius: 50%;\n",
              "      cursor: pointer;\n",
              "      display: none;\n",
              "      fill: #1967D2;\n",
              "      height: 32px;\n",
              "      padding: 0 0 0 0;\n",
              "      width: 32px;\n",
              "    }\n",
              "\n",
              "    .colab-df-convert:hover {\n",
              "      background-color: #E2EBFA;\n",
              "      box-shadow: 0px 1px 2px rgba(60, 64, 67, 0.3), 0px 1px 3px 1px rgba(60, 64, 67, 0.15);\n",
              "      fill: #174EA6;\n",
              "    }\n",
              "\n",
              "    [theme=dark] .colab-df-convert {\n",
              "      background-color: #3B4455;\n",
              "      fill: #D2E3FC;\n",
              "    }\n",
              "\n",
              "    [theme=dark] .colab-df-convert:hover {\n",
              "      background-color: #434B5C;\n",
              "      box-shadow: 0px 1px 3px 1px rgba(0, 0, 0, 0.15);\n",
              "      filter: drop-shadow(0px 1px 2px rgba(0, 0, 0, 0.3));\n",
              "      fill: #FFFFFF;\n",
              "    }\n",
              "  </style>\n",
              "\n",
              "      <script>\n",
              "        const buttonEl =\n",
              "          document.querySelector('#df-c542a0a8-ea1a-48a5-8ee6-c7b301c10d6f button.colab-df-convert');\n",
              "        buttonEl.style.display =\n",
              "          google.colab.kernel.accessAllowed ? 'block' : 'none';\n",
              "\n",
              "        async function convertToInteractive(key) {\n",
              "          const element = document.querySelector('#df-c542a0a8-ea1a-48a5-8ee6-c7b301c10d6f');\n",
              "          const dataTable =\n",
              "            await google.colab.kernel.invokeFunction('convertToInteractive',\n",
              "                                                     [key], {});\n",
              "          if (!dataTable) return;\n",
              "\n",
              "          const docLinkHtml = 'Like what you see? Visit the ' +\n",
              "            '<a target=\"_blank\" href=https://colab.research.google.com/notebooks/data_table.ipynb>data table notebook</a>'\n",
              "            + ' to learn more about interactive tables.';\n",
              "          element.innerHTML = '';\n",
              "          dataTable['output_type'] = 'display_data';\n",
              "          await google.colab.output.renderOutput(dataTable, element);\n",
              "          const docLink = document.createElement('div');\n",
              "          docLink.innerHTML = docLinkHtml;\n",
              "          element.appendChild(docLink);\n",
              "        }\n",
              "      </script>\n",
              "    </div>\n",
              "  </div>\n",
              "  "
            ]
          },
          "metadata": {},
          "execution_count": 3
        }
      ],
      "source": [
        "dataset.head()"
      ]
    },
    {
      "cell_type": "code",
      "execution_count": 4,
      "metadata": {
        "id": "cFdH34l3Qk51"
      },
      "outputs": [],
      "source": [
        "dataset.columns = ['Region_class', 'Region/Country/Area', 'Year', 'Series', 'Value', 'Footnotes', 'Source']"
      ]
    },
    {
      "cell_type": "code",
      "execution_count": 5,
      "metadata": {
        "colab": {
          "base_uri": "https://localhost:8080/",
          "height": 206
        },
        "id": "mbxm_3eMQk52",
        "outputId": "f505de24-2ad1-4379-9a47-26d4a705969f"
      },
      "outputs": [
        {
          "output_type": "execute_result",
          "data": {
            "text/plain": [
              "   Region_class            Region/Country/Area  Year  \\\n",
              "0             1  Total, all countries or areas  2010   \n",
              "1             1  Total, all countries or areas  2010   \n",
              "2             1  Total, all countries or areas  2010   \n",
              "3             1  Total, all countries or areas  2010   \n",
              "4             1  Total, all countries or areas  2010   \n",
              "\n",
              "                                              Series Value  \\\n",
              "0       Population annual rate of increase (percent)   1.2   \n",
              "1          Total fertility rate (children per women)   2.6   \n",
              "2  Infant mortality for both sexes (per 1,000 liv...  41.0   \n",
              "3  Maternal mortality ratio (deaths per 100,000 p...   248   \n",
              "4    Life expectancy at birth for both sexes (years)  68.9   \n",
              "\n",
              "                                           Footnotes  \\\n",
              "0  Data refers to a 5-year period preceding the r...   \n",
              "1  Data refers to a 5-year period preceding the r...   \n",
              "2  Data refers to a 5-year period preceding the r...   \n",
              "3                                                NaN   \n",
              "4  Data refers to a 5-year period preceding the r...   \n",
              "\n",
              "                                              Source  \n",
              "0  United Nations Population Division, New York, ...  \n",
              "1  United Nations Population Division, New York, ...  \n",
              "2  United Nations Statistics Division, New York, ...  \n",
              "3  World Health Organization (WHO), the United Na...  \n",
              "4  United Nations Population Division, New York, ...  "
            ],
            "text/html": [
              "\n",
              "  <div id=\"df-be9a6c4b-42e2-4356-97f9-6e8736a78c42\">\n",
              "    <div class=\"colab-df-container\">\n",
              "      <div>\n",
              "<style scoped>\n",
              "    .dataframe tbody tr th:only-of-type {\n",
              "        vertical-align: middle;\n",
              "    }\n",
              "\n",
              "    .dataframe tbody tr th {\n",
              "        vertical-align: top;\n",
              "    }\n",
              "\n",
              "    .dataframe thead th {\n",
              "        text-align: right;\n",
              "    }\n",
              "</style>\n",
              "<table border=\"1\" class=\"dataframe\">\n",
              "  <thead>\n",
              "    <tr style=\"text-align: right;\">\n",
              "      <th></th>\n",
              "      <th>Region_class</th>\n",
              "      <th>Region/Country/Area</th>\n",
              "      <th>Year</th>\n",
              "      <th>Series</th>\n",
              "      <th>Value</th>\n",
              "      <th>Footnotes</th>\n",
              "      <th>Source</th>\n",
              "    </tr>\n",
              "  </thead>\n",
              "  <tbody>\n",
              "    <tr>\n",
              "      <th>0</th>\n",
              "      <td>1</td>\n",
              "      <td>Total, all countries or areas</td>\n",
              "      <td>2010</td>\n",
              "      <td>Population annual rate of increase (percent)</td>\n",
              "      <td>1.2</td>\n",
              "      <td>Data refers to a 5-year period preceding the r...</td>\n",
              "      <td>United Nations Population Division, New York, ...</td>\n",
              "    </tr>\n",
              "    <tr>\n",
              "      <th>1</th>\n",
              "      <td>1</td>\n",
              "      <td>Total, all countries or areas</td>\n",
              "      <td>2010</td>\n",
              "      <td>Total fertility rate (children per women)</td>\n",
              "      <td>2.6</td>\n",
              "      <td>Data refers to a 5-year period preceding the r...</td>\n",
              "      <td>United Nations Population Division, New York, ...</td>\n",
              "    </tr>\n",
              "    <tr>\n",
              "      <th>2</th>\n",
              "      <td>1</td>\n",
              "      <td>Total, all countries or areas</td>\n",
              "      <td>2010</td>\n",
              "      <td>Infant mortality for both sexes (per 1,000 liv...</td>\n",
              "      <td>41.0</td>\n",
              "      <td>Data refers to a 5-year period preceding the r...</td>\n",
              "      <td>United Nations Statistics Division, New York, ...</td>\n",
              "    </tr>\n",
              "    <tr>\n",
              "      <th>3</th>\n",
              "      <td>1</td>\n",
              "      <td>Total, all countries or areas</td>\n",
              "      <td>2010</td>\n",
              "      <td>Maternal mortality ratio (deaths per 100,000 p...</td>\n",
              "      <td>248</td>\n",
              "      <td>NaN</td>\n",
              "      <td>World Health Organization (WHO), the United Na...</td>\n",
              "    </tr>\n",
              "    <tr>\n",
              "      <th>4</th>\n",
              "      <td>1</td>\n",
              "      <td>Total, all countries or areas</td>\n",
              "      <td>2010</td>\n",
              "      <td>Life expectancy at birth for both sexes (years)</td>\n",
              "      <td>68.9</td>\n",
              "      <td>Data refers to a 5-year period preceding the r...</td>\n",
              "      <td>United Nations Population Division, New York, ...</td>\n",
              "    </tr>\n",
              "  </tbody>\n",
              "</table>\n",
              "</div>\n",
              "      <button class=\"colab-df-convert\" onclick=\"convertToInteractive('df-be9a6c4b-42e2-4356-97f9-6e8736a78c42')\"\n",
              "              title=\"Convert this dataframe to an interactive table.\"\n",
              "              style=\"display:none;\">\n",
              "        \n",
              "  <svg xmlns=\"http://www.w3.org/2000/svg\" height=\"24px\"viewBox=\"0 0 24 24\"\n",
              "       width=\"24px\">\n",
              "    <path d=\"M0 0h24v24H0V0z\" fill=\"none\"/>\n",
              "    <path d=\"M18.56 5.44l.94 2.06.94-2.06 2.06-.94-2.06-.94-.94-2.06-.94 2.06-2.06.94zm-11 1L8.5 8.5l.94-2.06 2.06-.94-2.06-.94L8.5 2.5l-.94 2.06-2.06.94zm10 10l.94 2.06.94-2.06 2.06-.94-2.06-.94-.94-2.06-.94 2.06-2.06.94z\"/><path d=\"M17.41 7.96l-1.37-1.37c-.4-.4-.92-.59-1.43-.59-.52 0-1.04.2-1.43.59L10.3 9.45l-7.72 7.72c-.78.78-.78 2.05 0 2.83L4 21.41c.39.39.9.59 1.41.59.51 0 1.02-.2 1.41-.59l7.78-7.78 2.81-2.81c.8-.78.8-2.07 0-2.86zM5.41 20L4 18.59l7.72-7.72 1.47 1.35L5.41 20z\"/>\n",
              "  </svg>\n",
              "      </button>\n",
              "      \n",
              "  <style>\n",
              "    .colab-df-container {\n",
              "      display:flex;\n",
              "      flex-wrap:wrap;\n",
              "      gap: 12px;\n",
              "    }\n",
              "\n",
              "    .colab-df-convert {\n",
              "      background-color: #E8F0FE;\n",
              "      border: none;\n",
              "      border-radius: 50%;\n",
              "      cursor: pointer;\n",
              "      display: none;\n",
              "      fill: #1967D2;\n",
              "      height: 32px;\n",
              "      padding: 0 0 0 0;\n",
              "      width: 32px;\n",
              "    }\n",
              "\n",
              "    .colab-df-convert:hover {\n",
              "      background-color: #E2EBFA;\n",
              "      box-shadow: 0px 1px 2px rgba(60, 64, 67, 0.3), 0px 1px 3px 1px rgba(60, 64, 67, 0.15);\n",
              "      fill: #174EA6;\n",
              "    }\n",
              "\n",
              "    [theme=dark] .colab-df-convert {\n",
              "      background-color: #3B4455;\n",
              "      fill: #D2E3FC;\n",
              "    }\n",
              "\n",
              "    [theme=dark] .colab-df-convert:hover {\n",
              "      background-color: #434B5C;\n",
              "      box-shadow: 0px 1px 3px 1px rgba(0, 0, 0, 0.15);\n",
              "      filter: drop-shadow(0px 1px 2px rgba(0, 0, 0, 0.3));\n",
              "      fill: #FFFFFF;\n",
              "    }\n",
              "  </style>\n",
              "\n",
              "      <script>\n",
              "        const buttonEl =\n",
              "          document.querySelector('#df-be9a6c4b-42e2-4356-97f9-6e8736a78c42 button.colab-df-convert');\n",
              "        buttonEl.style.display =\n",
              "          google.colab.kernel.accessAllowed ? 'block' : 'none';\n",
              "\n",
              "        async function convertToInteractive(key) {\n",
              "          const element = document.querySelector('#df-be9a6c4b-42e2-4356-97f9-6e8736a78c42');\n",
              "          const dataTable =\n",
              "            await google.colab.kernel.invokeFunction('convertToInteractive',\n",
              "                                                     [key], {});\n",
              "          if (!dataTable) return;\n",
              "\n",
              "          const docLinkHtml = 'Like what you see? Visit the ' +\n",
              "            '<a target=\"_blank\" href=https://colab.research.google.com/notebooks/data_table.ipynb>data table notebook</a>'\n",
              "            + ' to learn more about interactive tables.';\n",
              "          element.innerHTML = '';\n",
              "          dataTable['output_type'] = 'display_data';\n",
              "          await google.colab.output.renderOutput(dataTable, element);\n",
              "          const docLink = document.createElement('div');\n",
              "          docLink.innerHTML = docLinkHtml;\n",
              "          element.appendChild(docLink);\n",
              "        }\n",
              "      </script>\n",
              "    </div>\n",
              "  </div>\n",
              "  "
            ]
          },
          "metadata": {},
          "execution_count": 5
        }
      ],
      "source": [
        "dataset.head()"
      ]
    },
    {
      "cell_type": "code",
      "execution_count": 6,
      "metadata": {
        "colab": {
          "base_uri": "https://localhost:8080/"
        },
        "id": "_3KZfIm_Qk52",
        "outputId": "316fa033-24b0-4d39-bc12-7c854f37f19d"
      },
      "outputs": [
        {
          "output_type": "execute_result",
          "data": {
            "text/plain": [
              "(4899, 7)"
            ]
          },
          "metadata": {},
          "execution_count": 6
        }
      ],
      "source": [
        "dataset.shape"
      ]
    },
    {
      "cell_type": "markdown",
      "metadata": {
        "id": "eSaazP13Qk52"
      },
      "source": [
        "# Question 2"
      ]
    },
    {
      "cell_type": "code",
      "execution_count": 7,
      "metadata": {
        "id": "oQIZYiY1Qk52"
      },
      "outputs": [],
      "source": [
        "list_Region_class = list(dataset['Region_class'].unique())"
      ]
    },
    {
      "cell_type": "code",
      "execution_count": 8,
      "metadata": {
        "colab": {
          "base_uri": "https://localhost:8080/"
        },
        "id": "xH4VxAl1Qk54",
        "outputId": "3c01712a-fe82-44cf-f6aa-775e327f3c0f"
      },
      "outputs": [
        {
          "output_type": "execute_result",
          "data": {
            "text/plain": [
              "265"
            ]
          },
          "metadata": {},
          "execution_count": 8
        }
      ],
      "source": [
        "len(list_Region_class)"
      ]
    },
    {
      "cell_type": "code",
      "execution_count": 9,
      "metadata": {
        "id": "FGX9x3rnQk54"
      },
      "outputs": [],
      "source": [
        "del list_Region_class[:30]"
      ]
    },
    {
      "cell_type": "code",
      "execution_count": 10,
      "metadata": {
        "colab": {
          "base_uri": "https://localhost:8080/"
        },
        "id": "wybPe5j1Qk54",
        "outputId": "f18ce018-10fc-453c-f894-bb9bd2e57c4f"
      },
      "outputs": [
        {
          "output_type": "execute_result",
          "data": {
            "text/plain": [
              "235"
            ]
          },
          "metadata": {},
          "execution_count": 10
        }
      ],
      "source": [
        "len(list_Region_class)"
      ]
    },
    {
      "cell_type": "code",
      "execution_count": 11,
      "metadata": {
        "id": "SiABGzlWQk55"
      },
      "outputs": [],
      "source": [
        "rslt_df = dataset[(dataset['Region_class'].isin(list_Region_class))]"
      ]
    },
    {
      "cell_type": "code",
      "execution_count": 12,
      "metadata": {
        "id": "8_9hyN-pQk55"
      },
      "outputs": [],
      "source": [
        "rslt_df =  rslt_df[rslt_df['Series'].str.contains('Life expectancy at birth for both sexes')]"
      ]
    },
    {
      "cell_type": "code",
      "execution_count": 13,
      "metadata": {
        "colab": {
          "base_uri": "https://localhost:8080/",
          "height": 424
        },
        "id": "H2RgSDo1Qk55",
        "outputId": "d4d6ff28-79f0-4a45-8ce3-e876e6e32b55"
      },
      "outputs": [
        {
          "output_type": "execute_result",
          "data": {
            "text/plain": [
              "     Region/Country/Area  Year  \\\n",
              "628          Afghanistan  2010   \n",
              "635          Afghanistan  2015   \n",
              "642          Afghanistan  2020   \n",
              "649              Albania  2010   \n",
              "656              Albania  2015   \n",
              "...                  ...   ...   \n",
              "4868              Zambia  2015   \n",
              "4875              Zambia  2020   \n",
              "4882            Zimbabwe  2010   \n",
              "4889            Zimbabwe  2015   \n",
              "4896            Zimbabwe  2020   \n",
              "\n",
              "                                               Series Value  \n",
              "628   Life expectancy at birth for both sexes (years)  59.6  \n",
              "635   Life expectancy at birth for both sexes (years)  62.3  \n",
              "642   Life expectancy at birth for both sexes (years)  64.3  \n",
              "649   Life expectancy at birth for both sexes (years)  75.6  \n",
              "656   Life expectancy at birth for both sexes (years)  77.5  \n",
              "...                                               ...   ...  \n",
              "4868  Life expectancy at birth for both sexes (years)  59.3  \n",
              "4875  Life expectancy at birth for both sexes (years)  63.3  \n",
              "4882  Life expectancy at birth for both sexes (years)  45.0  \n",
              "4889  Life expectancy at birth for both sexes (years)  56.7  \n",
              "4896  Life expectancy at birth for both sexes (years)  60.8  \n",
              "\n",
              "[603 rows x 4 columns]"
            ],
            "text/html": [
              "\n",
              "  <div id=\"df-ce0cf427-ef51-4000-a639-9c9d9d134234\">\n",
              "    <div class=\"colab-df-container\">\n",
              "      <div>\n",
              "<style scoped>\n",
              "    .dataframe tbody tr th:only-of-type {\n",
              "        vertical-align: middle;\n",
              "    }\n",
              "\n",
              "    .dataframe tbody tr th {\n",
              "        vertical-align: top;\n",
              "    }\n",
              "\n",
              "    .dataframe thead th {\n",
              "        text-align: right;\n",
              "    }\n",
              "</style>\n",
              "<table border=\"1\" class=\"dataframe\">\n",
              "  <thead>\n",
              "    <tr style=\"text-align: right;\">\n",
              "      <th></th>\n",
              "      <th>Region/Country/Area</th>\n",
              "      <th>Year</th>\n",
              "      <th>Series</th>\n",
              "      <th>Value</th>\n",
              "    </tr>\n",
              "  </thead>\n",
              "  <tbody>\n",
              "    <tr>\n",
              "      <th>628</th>\n",
              "      <td>Afghanistan</td>\n",
              "      <td>2010</td>\n",
              "      <td>Life expectancy at birth for both sexes (years)</td>\n",
              "      <td>59.6</td>\n",
              "    </tr>\n",
              "    <tr>\n",
              "      <th>635</th>\n",
              "      <td>Afghanistan</td>\n",
              "      <td>2015</td>\n",
              "      <td>Life expectancy at birth for both sexes (years)</td>\n",
              "      <td>62.3</td>\n",
              "    </tr>\n",
              "    <tr>\n",
              "      <th>642</th>\n",
              "      <td>Afghanistan</td>\n",
              "      <td>2020</td>\n",
              "      <td>Life expectancy at birth for both sexes (years)</td>\n",
              "      <td>64.3</td>\n",
              "    </tr>\n",
              "    <tr>\n",
              "      <th>649</th>\n",
              "      <td>Albania</td>\n",
              "      <td>2010</td>\n",
              "      <td>Life expectancy at birth for both sexes (years)</td>\n",
              "      <td>75.6</td>\n",
              "    </tr>\n",
              "    <tr>\n",
              "      <th>656</th>\n",
              "      <td>Albania</td>\n",
              "      <td>2015</td>\n",
              "      <td>Life expectancy at birth for both sexes (years)</td>\n",
              "      <td>77.5</td>\n",
              "    </tr>\n",
              "    <tr>\n",
              "      <th>...</th>\n",
              "      <td>...</td>\n",
              "      <td>...</td>\n",
              "      <td>...</td>\n",
              "      <td>...</td>\n",
              "    </tr>\n",
              "    <tr>\n",
              "      <th>4868</th>\n",
              "      <td>Zambia</td>\n",
              "      <td>2015</td>\n",
              "      <td>Life expectancy at birth for both sexes (years)</td>\n",
              "      <td>59.3</td>\n",
              "    </tr>\n",
              "    <tr>\n",
              "      <th>4875</th>\n",
              "      <td>Zambia</td>\n",
              "      <td>2020</td>\n",
              "      <td>Life expectancy at birth for both sexes (years)</td>\n",
              "      <td>63.3</td>\n",
              "    </tr>\n",
              "    <tr>\n",
              "      <th>4882</th>\n",
              "      <td>Zimbabwe</td>\n",
              "      <td>2010</td>\n",
              "      <td>Life expectancy at birth for both sexes (years)</td>\n",
              "      <td>45.0</td>\n",
              "    </tr>\n",
              "    <tr>\n",
              "      <th>4889</th>\n",
              "      <td>Zimbabwe</td>\n",
              "      <td>2015</td>\n",
              "      <td>Life expectancy at birth for both sexes (years)</td>\n",
              "      <td>56.7</td>\n",
              "    </tr>\n",
              "    <tr>\n",
              "      <th>4896</th>\n",
              "      <td>Zimbabwe</td>\n",
              "      <td>2020</td>\n",
              "      <td>Life expectancy at birth for both sexes (years)</td>\n",
              "      <td>60.8</td>\n",
              "    </tr>\n",
              "  </tbody>\n",
              "</table>\n",
              "<p>603 rows × 4 columns</p>\n",
              "</div>\n",
              "      <button class=\"colab-df-convert\" onclick=\"convertToInteractive('df-ce0cf427-ef51-4000-a639-9c9d9d134234')\"\n",
              "              title=\"Convert this dataframe to an interactive table.\"\n",
              "              style=\"display:none;\">\n",
              "        \n",
              "  <svg xmlns=\"http://www.w3.org/2000/svg\" height=\"24px\"viewBox=\"0 0 24 24\"\n",
              "       width=\"24px\">\n",
              "    <path d=\"M0 0h24v24H0V0z\" fill=\"none\"/>\n",
              "    <path d=\"M18.56 5.44l.94 2.06.94-2.06 2.06-.94-2.06-.94-.94-2.06-.94 2.06-2.06.94zm-11 1L8.5 8.5l.94-2.06 2.06-.94-2.06-.94L8.5 2.5l-.94 2.06-2.06.94zm10 10l.94 2.06.94-2.06 2.06-.94-2.06-.94-.94-2.06-.94 2.06-2.06.94z\"/><path d=\"M17.41 7.96l-1.37-1.37c-.4-.4-.92-.59-1.43-.59-.52 0-1.04.2-1.43.59L10.3 9.45l-7.72 7.72c-.78.78-.78 2.05 0 2.83L4 21.41c.39.39.9.59 1.41.59.51 0 1.02-.2 1.41-.59l7.78-7.78 2.81-2.81c.8-.78.8-2.07 0-2.86zM5.41 20L4 18.59l7.72-7.72 1.47 1.35L5.41 20z\"/>\n",
              "  </svg>\n",
              "      </button>\n",
              "      \n",
              "  <style>\n",
              "    .colab-df-container {\n",
              "      display:flex;\n",
              "      flex-wrap:wrap;\n",
              "      gap: 12px;\n",
              "    }\n",
              "\n",
              "    .colab-df-convert {\n",
              "      background-color: #E8F0FE;\n",
              "      border: none;\n",
              "      border-radius: 50%;\n",
              "      cursor: pointer;\n",
              "      display: none;\n",
              "      fill: #1967D2;\n",
              "      height: 32px;\n",
              "      padding: 0 0 0 0;\n",
              "      width: 32px;\n",
              "    }\n",
              "\n",
              "    .colab-df-convert:hover {\n",
              "      background-color: #E2EBFA;\n",
              "      box-shadow: 0px 1px 2px rgba(60, 64, 67, 0.3), 0px 1px 3px 1px rgba(60, 64, 67, 0.15);\n",
              "      fill: #174EA6;\n",
              "    }\n",
              "\n",
              "    [theme=dark] .colab-df-convert {\n",
              "      background-color: #3B4455;\n",
              "      fill: #D2E3FC;\n",
              "    }\n",
              "\n",
              "    [theme=dark] .colab-df-convert:hover {\n",
              "      background-color: #434B5C;\n",
              "      box-shadow: 0px 1px 3px 1px rgba(0, 0, 0, 0.15);\n",
              "      filter: drop-shadow(0px 1px 2px rgba(0, 0, 0, 0.3));\n",
              "      fill: #FFFFFF;\n",
              "    }\n",
              "  </style>\n",
              "\n",
              "      <script>\n",
              "        const buttonEl =\n",
              "          document.querySelector('#df-ce0cf427-ef51-4000-a639-9c9d9d134234 button.colab-df-convert');\n",
              "        buttonEl.style.display =\n",
              "          google.colab.kernel.accessAllowed ? 'block' : 'none';\n",
              "\n",
              "        async function convertToInteractive(key) {\n",
              "          const element = document.querySelector('#df-ce0cf427-ef51-4000-a639-9c9d9d134234');\n",
              "          const dataTable =\n",
              "            await google.colab.kernel.invokeFunction('convertToInteractive',\n",
              "                                                     [key], {});\n",
              "          if (!dataTable) return;\n",
              "\n",
              "          const docLinkHtml = 'Like what you see? Visit the ' +\n",
              "            '<a target=\"_blank\" href=https://colab.research.google.com/notebooks/data_table.ipynb>data table notebook</a>'\n",
              "            + ' to learn more about interactive tables.';\n",
              "          element.innerHTML = '';\n",
              "          dataTable['output_type'] = 'display_data';\n",
              "          await google.colab.output.renderOutput(dataTable, element);\n",
              "          const docLink = document.createElement('div');\n",
              "          docLink.innerHTML = docLinkHtml;\n",
              "          element.appendChild(docLink);\n",
              "        }\n",
              "      </script>\n",
              "    </div>\n",
              "  </div>\n",
              "  "
            ]
          },
          "metadata": {},
          "execution_count": 13
        }
      ],
      "source": [
        "rslt_df.iloc[:, [1, 2, 3, 4]]"
      ]
    },
    {
      "cell_type": "code",
      "execution_count": 14,
      "metadata": {
        "colab": {
          "base_uri": "https://localhost:8080/"
        },
        "id": "LTTRCrNbQk56",
        "outputId": "c03a82f8-63df-4004-ad87-acad9129cfc1"
      },
      "outputs": [
        {
          "output_type": "execute_result",
          "data": {
            "text/plain": [
              "(603, 7)"
            ]
          },
          "metadata": {},
          "execution_count": 14
        }
      ],
      "source": [
        "rslt_df.shape"
      ]
    },
    {
      "cell_type": "code",
      "source": [
        "rslt_df.head()"
      ],
      "metadata": {
        "colab": {
          "base_uri": "https://localhost:8080/",
          "height": 206
        },
        "id": "OPDmzVl5upZW",
        "outputId": "7eb1571d-a960-4163-d9e1-ca144cdf8ec3"
      },
      "execution_count": 15,
      "outputs": [
        {
          "output_type": "execute_result",
          "data": {
            "text/plain": [
              "     Region_class Region/Country/Area  Year  \\\n",
              "628             4         Afghanistan  2010   \n",
              "635             4         Afghanistan  2015   \n",
              "642             4         Afghanistan  2020   \n",
              "649             8             Albania  2010   \n",
              "656             8             Albania  2015   \n",
              "\n",
              "                                              Series Value  \\\n",
              "628  Life expectancy at birth for both sexes (years)  59.6   \n",
              "635  Life expectancy at birth for both sexes (years)  62.3   \n",
              "642  Life expectancy at birth for both sexes (years)  64.3   \n",
              "649  Life expectancy at birth for both sexes (years)  75.6   \n",
              "656  Life expectancy at birth for both sexes (years)  77.5   \n",
              "\n",
              "                                             Footnotes  \\\n",
              "628  Data refers to a 5-year period preceding the r...   \n",
              "635  Data refers to a 5-year period preceding the r...   \n",
              "642  Data refers to a 5-year period preceding the r...   \n",
              "649  Data refers to a 5-year period preceding the r...   \n",
              "656  Data refers to a 5-year period preceding the r...   \n",
              "\n",
              "                                                Source  \n",
              "628  United Nations Population Division, New York, ...  \n",
              "635  United Nations Population Division, New York, ...  \n",
              "642  United Nations Population Division, New York, ...  \n",
              "649  United Nations Population Division, New York, ...  \n",
              "656  United Nations Population Division, New York, ...  "
            ],
            "text/html": [
              "\n",
              "  <div id=\"df-322748b6-5dd4-4c19-a49a-033345d90a65\">\n",
              "    <div class=\"colab-df-container\">\n",
              "      <div>\n",
              "<style scoped>\n",
              "    .dataframe tbody tr th:only-of-type {\n",
              "        vertical-align: middle;\n",
              "    }\n",
              "\n",
              "    .dataframe tbody tr th {\n",
              "        vertical-align: top;\n",
              "    }\n",
              "\n",
              "    .dataframe thead th {\n",
              "        text-align: right;\n",
              "    }\n",
              "</style>\n",
              "<table border=\"1\" class=\"dataframe\">\n",
              "  <thead>\n",
              "    <tr style=\"text-align: right;\">\n",
              "      <th></th>\n",
              "      <th>Region_class</th>\n",
              "      <th>Region/Country/Area</th>\n",
              "      <th>Year</th>\n",
              "      <th>Series</th>\n",
              "      <th>Value</th>\n",
              "      <th>Footnotes</th>\n",
              "      <th>Source</th>\n",
              "    </tr>\n",
              "  </thead>\n",
              "  <tbody>\n",
              "    <tr>\n",
              "      <th>628</th>\n",
              "      <td>4</td>\n",
              "      <td>Afghanistan</td>\n",
              "      <td>2010</td>\n",
              "      <td>Life expectancy at birth for both sexes (years)</td>\n",
              "      <td>59.6</td>\n",
              "      <td>Data refers to a 5-year period preceding the r...</td>\n",
              "      <td>United Nations Population Division, New York, ...</td>\n",
              "    </tr>\n",
              "    <tr>\n",
              "      <th>635</th>\n",
              "      <td>4</td>\n",
              "      <td>Afghanistan</td>\n",
              "      <td>2015</td>\n",
              "      <td>Life expectancy at birth for both sexes (years)</td>\n",
              "      <td>62.3</td>\n",
              "      <td>Data refers to a 5-year period preceding the r...</td>\n",
              "      <td>United Nations Population Division, New York, ...</td>\n",
              "    </tr>\n",
              "    <tr>\n",
              "      <th>642</th>\n",
              "      <td>4</td>\n",
              "      <td>Afghanistan</td>\n",
              "      <td>2020</td>\n",
              "      <td>Life expectancy at birth for both sexes (years)</td>\n",
              "      <td>64.3</td>\n",
              "      <td>Data refers to a 5-year period preceding the r...</td>\n",
              "      <td>United Nations Population Division, New York, ...</td>\n",
              "    </tr>\n",
              "    <tr>\n",
              "      <th>649</th>\n",
              "      <td>8</td>\n",
              "      <td>Albania</td>\n",
              "      <td>2010</td>\n",
              "      <td>Life expectancy at birth for both sexes (years)</td>\n",
              "      <td>75.6</td>\n",
              "      <td>Data refers to a 5-year period preceding the r...</td>\n",
              "      <td>United Nations Population Division, New York, ...</td>\n",
              "    </tr>\n",
              "    <tr>\n",
              "      <th>656</th>\n",
              "      <td>8</td>\n",
              "      <td>Albania</td>\n",
              "      <td>2015</td>\n",
              "      <td>Life expectancy at birth for both sexes (years)</td>\n",
              "      <td>77.5</td>\n",
              "      <td>Data refers to a 5-year period preceding the r...</td>\n",
              "      <td>United Nations Population Division, New York, ...</td>\n",
              "    </tr>\n",
              "  </tbody>\n",
              "</table>\n",
              "</div>\n",
              "      <button class=\"colab-df-convert\" onclick=\"convertToInteractive('df-322748b6-5dd4-4c19-a49a-033345d90a65')\"\n",
              "              title=\"Convert this dataframe to an interactive table.\"\n",
              "              style=\"display:none;\">\n",
              "        \n",
              "  <svg xmlns=\"http://www.w3.org/2000/svg\" height=\"24px\"viewBox=\"0 0 24 24\"\n",
              "       width=\"24px\">\n",
              "    <path d=\"M0 0h24v24H0V0z\" fill=\"none\"/>\n",
              "    <path d=\"M18.56 5.44l.94 2.06.94-2.06 2.06-.94-2.06-.94-.94-2.06-.94 2.06-2.06.94zm-11 1L8.5 8.5l.94-2.06 2.06-.94-2.06-.94L8.5 2.5l-.94 2.06-2.06.94zm10 10l.94 2.06.94-2.06 2.06-.94-2.06-.94-.94-2.06-.94 2.06-2.06.94z\"/><path d=\"M17.41 7.96l-1.37-1.37c-.4-.4-.92-.59-1.43-.59-.52 0-1.04.2-1.43.59L10.3 9.45l-7.72 7.72c-.78.78-.78 2.05 0 2.83L4 21.41c.39.39.9.59 1.41.59.51 0 1.02-.2 1.41-.59l7.78-7.78 2.81-2.81c.8-.78.8-2.07 0-2.86zM5.41 20L4 18.59l7.72-7.72 1.47 1.35L5.41 20z\"/>\n",
              "  </svg>\n",
              "      </button>\n",
              "      \n",
              "  <style>\n",
              "    .colab-df-container {\n",
              "      display:flex;\n",
              "      flex-wrap:wrap;\n",
              "      gap: 12px;\n",
              "    }\n",
              "\n",
              "    .colab-df-convert {\n",
              "      background-color: #E8F0FE;\n",
              "      border: none;\n",
              "      border-radius: 50%;\n",
              "      cursor: pointer;\n",
              "      display: none;\n",
              "      fill: #1967D2;\n",
              "      height: 32px;\n",
              "      padding: 0 0 0 0;\n",
              "      width: 32px;\n",
              "    }\n",
              "\n",
              "    .colab-df-convert:hover {\n",
              "      background-color: #E2EBFA;\n",
              "      box-shadow: 0px 1px 2px rgba(60, 64, 67, 0.3), 0px 1px 3px 1px rgba(60, 64, 67, 0.15);\n",
              "      fill: #174EA6;\n",
              "    }\n",
              "\n",
              "    [theme=dark] .colab-df-convert {\n",
              "      background-color: #3B4455;\n",
              "      fill: #D2E3FC;\n",
              "    }\n",
              "\n",
              "    [theme=dark] .colab-df-convert:hover {\n",
              "      background-color: #434B5C;\n",
              "      box-shadow: 0px 1px 3px 1px rgba(0, 0, 0, 0.15);\n",
              "      filter: drop-shadow(0px 1px 2px rgba(0, 0, 0, 0.3));\n",
              "      fill: #FFFFFF;\n",
              "    }\n",
              "  </style>\n",
              "\n",
              "      <script>\n",
              "        const buttonEl =\n",
              "          document.querySelector('#df-322748b6-5dd4-4c19-a49a-033345d90a65 button.colab-df-convert');\n",
              "        buttonEl.style.display =\n",
              "          google.colab.kernel.accessAllowed ? 'block' : 'none';\n",
              "\n",
              "        async function convertToInteractive(key) {\n",
              "          const element = document.querySelector('#df-322748b6-5dd4-4c19-a49a-033345d90a65');\n",
              "          const dataTable =\n",
              "            await google.colab.kernel.invokeFunction('convertToInteractive',\n",
              "                                                     [key], {});\n",
              "          if (!dataTable) return;\n",
              "\n",
              "          const docLinkHtml = 'Like what you see? Visit the ' +\n",
              "            '<a target=\"_blank\" href=https://colab.research.google.com/notebooks/data_table.ipynb>data table notebook</a>'\n",
              "            + ' to learn more about interactive tables.';\n",
              "          element.innerHTML = '';\n",
              "          dataTable['output_type'] = 'display_data';\n",
              "          await google.colab.output.renderOutput(dataTable, element);\n",
              "          const docLink = document.createElement('div');\n",
              "          docLink.innerHTML = docLinkHtml;\n",
              "          element.appendChild(docLink);\n",
              "        }\n",
              "      </script>\n",
              "    </div>\n",
              "  </div>\n",
              "  "
            ]
          },
          "metadata": {},
          "execution_count": 15
        }
      ]
    },
    {
      "cell_type": "code",
      "execution_count": 16,
      "metadata": {
        "id": "BpaPfRCaQk56"
      },
      "outputs": [],
      "source": [
        "lf_exp_Value_np_arr = rslt_df[\"Value\"].to_numpy()\n"
      ]
    },
    {
      "cell_type": "code",
      "execution_count": 17,
      "metadata": {
        "colab": {
          "base_uri": "https://localhost:8080/"
        },
        "id": "Su8hjFrDQk56",
        "outputId": "80277cc8-d8d0-4936-8978-6ba16242bb7a"
      },
      "outputs": [
        {
          "output_type": "execute_result",
          "data": {
            "text/plain": [
              "numpy.ndarray"
            ]
          },
          "metadata": {},
          "execution_count": 17
        }
      ],
      "source": [
        "type(lf_exp_Value_np_arr)"
      ]
    },
    {
      "cell_type": "code",
      "execution_count": 18,
      "metadata": {
        "colab": {
          "base_uri": "https://localhost:8080/"
        },
        "id": "Plw-r8cwQk57",
        "outputId": "47ddfbe1-8d65-4d03-f3dc-9ac0eb937a51"
      },
      "outputs": [
        {
          "output_type": "execute_result",
          "data": {
            "text/plain": [
              "603"
            ]
          },
          "metadata": {},
          "execution_count": 18
        }
      ],
      "source": [
        "len(lf_exp_Value_np_arr) #size N of datase"
      ]
    },
    {
      "cell_type": "markdown",
      "metadata": {
        "id": "rUMsQmIlQk58"
      },
      "source": [
        "# Question 3"
      ]
    },
    {
      "cell_type": "code",
      "execution_count": 19,
      "metadata": {
        "id": "Ctxu0p1ZQk58"
      },
      "outputs": [],
      "source": [
        "rslt_df['Value'] = pd.to_numeric(rslt_df['Value'])"
      ]
    },
    {
      "cell_type": "code",
      "execution_count": 20,
      "metadata": {
        "id": "PemU3uM7Qk58"
      },
      "outputs": [],
      "source": [
        "avg_lf_exp=rslt_df[\"Value\"].mean()\n",
        "median_lf_exp=rslt_df[\"Value\"].median()"
      ]
    },
    {
      "cell_type": "code",
      "execution_count": 21,
      "metadata": {
        "id": "gxIq7xUtQk58"
      },
      "outputs": [],
      "source": [
        "import seaborn as sns\n",
        "import pandas as pd\n",
        "import matplotlib.pyplot as plt"
      ]
    },
    {
      "cell_type": "code",
      "execution_count": 22,
      "metadata": {
        "colab": {
          "base_uri": "https://localhost:8080/",
          "height": 444
        },
        "id": "-vLHrwC1Qk59",
        "outputId": "3a1fa546-2bb5-40ed-88eb-20b5213b3663"
      },
      "outputs": [
        {
          "output_type": "display_data",
          "data": {
            "text/plain": [
              "<Figure size 576x504 with 1 Axes>"
            ],
            "image/png": "[encoded data removed]"
          },
          "metadata": {
            "needs_background": "light"
          }
        }
      ],
      "source": [
        "x =  lf_exp_Value_np_arr.astype(np.float64)\n",
        "fig = plt.figure(figsize =(8, 7))\n",
        "plt.hist(x, bins = 10)\n",
        "\n",
        "plt.title(\"Life Expectancy histogram\")\n",
        "plt.axvline(x=avg_lf_exp,color='red') #Mean\n",
        "plt.axvline(x=median_lf_exp,color='yellow') #Median\n",
        "# show plot\n",
        "plt.show()"
      ]
    },
    {
      "cell_type": "code",
      "source": [
        "print(\"mean:\", avg_lf_exp)\n",
        "print(\"Median:\", median_lf_exp)\n",
        "\n",
        "print(\"The Average life expectancy is about 71 years which is the mean.\")\n",
        "print(\"\")\n",
        "print(\"As for the median it depicts a more realistic value without being skewed by a small proportion of extremely large or small values.\\nAnd therefore provides a better representation of the life expectancy median of 73 Years\")"
      ],
      "metadata": {
        "colab": {
          "base_uri": "https://localhost:8080/"
        },
        "id": "abjTL7hTHhyl",
        "outputId": "40898bf8-2498-4de1-e959-e5cd34d9415f"
      },
      "execution_count": 23,
      "outputs": [
        {
          "output_type": "stream",
          "name": "stdout",
          "text": [
            "mean: 71.18275290215588\n",
            "Median: 73.1\n",
            "The Average life expectancy is about 71 years which is the mean.\n",
            "\n",
            "As for the median it depicts a more realistic value without being skewed by a small proportion of extremely large or small values.\n",
            "And therefore provides a better representation of the life expectancy median of 73 Years\n"
          ]
        }
      ]
    },
    {
      "cell_type": "markdown",
      "metadata": {
        "id": "6REe1BaQQk59"
      },
      "source": [
        "# Question 4"
      ]
    },
    {
      "cell_type": "code",
      "execution_count": 24,
      "metadata": {
        "colab": {
          "base_uri": "https://localhost:8080/"
        },
        "id": "Op6bij3cQk59",
        "outputId": "8db8619e-4371-4d80-9b0b-a431d5f89528"
      },
      "outputs": [
        {
          "output_type": "execute_result",
          "data": {
            "text/plain": [
              "count    603.000000\n",
              "mean      71.182753\n",
              "std        8.553886\n",
              "min       43.100000\n",
              "25%       66.050000\n",
              "50%       73.100000\n",
              "75%       77.700000\n",
              "max       84.600000\n",
              "Name: Value, dtype: float64"
            ]
          },
          "metadata": {},
          "execution_count": 24
        }
      ],
      "source": [
        "rslt_df['Value'].describe()"
      ]
    },
    {
      "cell_type": "code",
      "execution_count": 25,
      "metadata": {
        "colab": {
          "base_uri": "https://localhost:8080/"
        },
        "id": "a8vSnvPIQk59",
        "outputId": "fc93bc70-0855-462e-d19e-dd88578fa6b7"
      },
      "outputs": [
        {
          "output_type": "stream",
          "name": "stdout",
          "text": [
            "The range of data is: 43.1 to 84.6\n"
          ]
        }
      ],
      "source": [
        "print(f\"The range of data is: {rslt_df['Value'].describe()[3]} to {rslt_df['Value'].describe()[7]}\")"
      ]
    },
    {
      "cell_type": "code",
      "execution_count": 26,
      "metadata": {
        "colab": {
          "base_uri": "https://localhost:8080/"
        },
        "id": "f-IEaJPmQk5-",
        "outputId": "83e6282f-fa10-4316-d42a-7b204bcdbdbb"
      },
      "outputs": [
        {
          "output_type": "stream",
          "name": "stdout",
          "text": [
            "The first quartile range of data is: 66.05\n"
          ]
        }
      ],
      "source": [
        "print(f\"The first quartile range of data is: {rslt_df['Value'].describe()[4]}\")"
      ]
    },
    {
      "cell_type": "code",
      "execution_count": 27,
      "metadata": {
        "colab": {
          "base_uri": "https://localhost:8080/"
        },
        "id": "8FAAlZoSQk5-",
        "outputId": "3f97bccc-46e3-4f01-ea35-0e80a9ac9e6a"
      },
      "outputs": [
        {
          "output_type": "stream",
          "name": "stdout",
          "text": [
            "The third quartile range of data is: 77.7\n"
          ]
        }
      ],
      "source": [
        "print(f\"The third quartile range of data is: {rslt_df['Value'].describe()[6]}\")\n"
      ]
    },
    {
      "cell_type": "code",
      "execution_count": 28,
      "metadata": {
        "colab": {
          "base_uri": "https://localhost:8080/"
        },
        "id": "sGM6K38GQk5_",
        "outputId": "a57cef3e-e86c-4585-998e-2ac400033a41"
      },
      "outputs": [
        {
          "output_type": "stream",
          "name": "stdout",
          "text": [
            "The standard deviation + Mean of data is: 79.7366392204607\n"
          ]
        }
      ],
      "source": [
        "\n",
        "std_plus_m = rslt_df['Value'].describe()[2]+rslt_df['Value'].describe()[1]\n",
        "print(f\"The standard deviation + Mean of data is:\", std_plus_m)\n",
        "# print(f\"The standard deviation + Mean of data is: {rslt_df['Value'].describe()[2]+rslt_df['Value'].describe()[1]}\")\n"
      ]
    },
    {
      "cell_type": "code",
      "source": [
        "std_minus_m = rslt_df['Value'].describe()[1]-rslt_df['Value'].describe()[2]\n",
        "print(f\"The Mean - Standard deviation of data is:\", std_minus_m)"
      ],
      "metadata": {
        "colab": {
          "base_uri": "https://localhost:8080/"
        },
        "id": "h1EuptIf_W0T",
        "outputId": "420a96e4-b062-42fa-83dd-a1d1622c6607"
      },
      "execution_count": 29,
      "outputs": [
        {
          "output_type": "stream",
          "name": "stdout",
          "text": [
            "The Mean - Standard deviation of data is: 62.628866583851064\n"
          ]
        }
      ]
    },
    {
      "cell_type": "code",
      "execution_count": 30,
      "metadata": {
        "colab": {
          "base_uri": "https://localhost:8080/",
          "height": 444
        },
        "id": "3WqbRUBiQk5_",
        "outputId": "8c169eb3-6ca5-4d9d-8f82-b0a98c4f6e30"
      },
      "outputs": [
        {
          "output_type": "display_data",
          "data": {
            "text/plain": [
              "<Figure size 720x504 with 1 Axes>"
            ],
            "image/png": "[encoded data removed]"
          },
          "metadata": {
            "needs_background": "light"
          }
        }
      ],
      "source": [
        "x =  lf_exp_Value_np_arr.astype(np.float64)\n",
        "fig = plt.figure(figsize =(10, 7))\n",
        "plt.hist(x, bins = 10)\n",
        "plt.title(\"Life Expectancy histogram with ranges and std. dev\")\n",
        "plt.axvline(x=rslt_df['Value'].describe()[4],color='red') #first quartile\n",
        "plt.axvline(x=rslt_df['Value'].describe()[6],color='yellow') #third quartile\n",
        "plt.axvline(std_plus_m,color='pink') #standard deviation + Mean\n",
        "plt.axvline(std_minus_m,color='green') #Mean - Standard deviation\n",
        "\n",
        "# show plot\n",
        "plt.show()\n",
        "\n",
        "#Red = first quartile\n",
        "#Yellow = third quartile\n",
        "#Pink = standard deviation + Mean\n",
        "#Green = Mean - Standard deviation\n"
      ]
    },
    {
      "cell_type": "markdown",
      "metadata": {
        "id": "1S7xvJkZQk5_"
      },
      "source": [
        "# Question 5"
      ]
    },
    {
      "cell_type": "code",
      "source": [
        "print('''For a discrete probability distribution, the Poisson distribution is suitable to model the life expectancy. \n",
        "This is because the number of events (Living Expectancy for each country) occurring in a fixed interval of time (Years) will occur with a known constant mean rate and independently of the time for example, the previous years of life expectancy for each country.\n",
        "\n",
        "e.g. Number of countries achieving low and high life expectancy would be an event which could be modelled using Poisson distribution. ''')"
      ],
      "metadata": {
        "colab": {
          "base_uri": "https://localhost:8080/"
        },
        "id": "QW9WoAPTfWPa",
        "outputId": "937160ba-5606-46e6-ea02-9a31356e93b1"
      },
      "execution_count": 35,
      "outputs": [
        {
          "output_type": "stream",
          "name": "stdout",
          "text": [
            "For a discrete probability distribution, the Poisson distribution is suitable to model the life expectancy. \n",
            "This is because the number of events (Living Expectancy for each country) occurring in a fixed interval of time (Years) will occur with a known constant mean rate and independently of the time for example, the previous years of life expectancy for each country.\n",
            "\n",
            "e.g. Number of countries achieving low and high life expectancy would be an event which could be modelled using Poisson distribution. \n"
          ]
        }
      ]
    },
    {
      "cell_type": "code",
      "execution_count": 31,
      "metadata": {
        "colab": {
          "base_uri": "https://localhost:8080/",
          "height": 283
        },
        "id": "e7flRu41Qk6A",
        "outputId": "e6bb9d39-2244-44a4-f82c-3702e2702b3d"
      },
      "outputs": [
        {
          "output_type": "execute_result",
          "data": {
            "text/plain": [
              "<matplotlib.axes._subplots.AxesSubplot at 0x7f6f486ceb10>"
            ]
          },
          "metadata": {},
          "execution_count": 31
        },
        {
          "output_type": "display_data",
          "data": {
            "text/plain": [
              "<Figure size 432x288 with 1 Axes>"
            ],
            "image/png": "[encoded data removed]"
          },
          "metadata": {
            "needs_background": "light"
          }
        }
      ],
      "source": [
        "rslt_df['Value'].plot(kind='kde')"
      ]
    },
    {
      "cell_type": "code",
      "execution_count": 32,
      "metadata": {
        "colab": {
          "base_uri": "https://localhost:8080/",
          "height": 283
        },
        "id": "1lCmF_wgQk6A",
        "outputId": "29b5b306-6de1-4899-af5c-b3876ab2f19d"
      },
      "outputs": [
        {
          "output_type": "execute_result",
          "data": {
            "text/plain": [
              "<matplotlib.axes._subplots.AxesSubplot at 0x7f6f61b0af90>"
            ]
          },
          "metadata": {},
          "execution_count": 32
        },
        {
          "output_type": "display_data",
          "data": {
            "text/plain": [
              "<Figure size 432x288 with 1 Axes>"
            ],
            "image/png": "[encoded data removed]"
          },
          "metadata": {
            "needs_background": "light"
          }
        }
      ],
      "source": [
        "#plot distribution of values in points column using histogram\n",
        "rslt_df['Value'].plot(kind='hist', edgecolor='black')"
      ]
    }
  ],
  "metadata": {
    "kernelspec": {
      "display_name": "Python 3.10.7 64-bit",
      "language": "python",
      "name": "python3"
    },
    "language_info": {
      "codemirror_mode": {
        "name": "ipython",
        "version": 3
      },
      "file_extension": ".py",
      "mimetype": "text/x-python",
      "name": "python",
      "nbconvert_exporter": "python",
      "pygments_lexer": "ipython3",
      "version": "3.10.7"
    },
    "orig_nbformat": 4,
    "vscode": {
      "interpreter": {
        "hash": "cb4f9d5eeb971e6e23366b2649edcd900bbce469f14a9be94392a994d5795fe2"
      }
    },
    "colab": {
      "provenance": [],
      "collapsed_sections": []
    }
  },
  "nbformat": 4,
  "nbformat_minor": 0
}