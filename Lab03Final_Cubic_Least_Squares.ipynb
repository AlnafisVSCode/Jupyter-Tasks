{
  "nbformat": 4,
  "nbformat_minor": 0,
  "metadata": {
    "colab": {
      "provenance": [],
      "collapsed_sections": [
        "sHQZ2xEiaxmH"
      ],
      "include_colab_link": true
    },
    "kernelspec": {
      "name": "python3",
      "display_name": "Python 3"
    }
  },
  "cells": [
    {
      "cell_type": "markdown",
      "metadata": {
        "id": "view-in-github",
        "colab_type": "text"
      },
      "source": [
        "<a href=\"https://colab.research.google.com/github/RacingXHunter/Jupyter-Tasks/blob/master/Lab03Final_Cubic_Least_Squares.ipynb\" target=\"_parent\"><img src=\"https://colab.research.google.com/assets/colab-badge.svg\" alt=\"Open In Colab\"/></a>"
      ]
    },
    {
      "cell_type": "markdown",
      "metadata": {
        "id": "sHQZ2xEiaxmH"
      },
      "source": [
        "# Lab 3: Operations on NumPy arrays\n",
        "\n",
        "Many machine learning algorithms need data to be represented as **arrays**. Once our data are represented as arrays, they are **operated** on to either build solutions during the learning stage or to make predictions during the deployment stage.\n",
        "\n",
        "In Lab 2 we introduced **NumPy arrays**. NumPY arrays are a convenient way to represent homogeneous datasets, i.e. datasets where all the attributes are of the same type, for instance `float` or `int`. In this lab, we will explore some of the most important **mathematical operations** on NumPy arrays. These operations will allow us to implement solutions based on **matrix algebra** and are known as **vectorised operations**, as they operate on a whole array (*vectors*) rather than on individual values at a time.\n",
        "\n",
        "The main operations that we will cover include:\n",
        "- Arithmetic operations (addition, subtraction, etc)\n",
        "- Matrix transposition\n",
        "- Matrix multiplication\n",
        "- Matrix inversion\n",
        "\n",
        "We will use these operations to obtain the least squares solution of several linear and polynomial models. **Before attempting the lab**, make sure that you have read and understood the notes on mathematical notation and basic maths and have reviewed the lecture notes on regression."
      ]
    },
    {
      "cell_type": "markdown",
      "metadata": {
        "id": "mzK5lzJ1bKAb"
      },
      "source": [
        "# Numerical predictions with a polynomial model: A simple example\n",
        "\n",
        "Consider the following cubic model:\n",
        "\n",
        "$\\begin{equation}\n",
        "f(x) = -2-\\frac{3}{2}x+\\frac{3}{4}x^2+\\frac{1}{4}x^3\n",
        "\\end{equation}$\n",
        "\n",
        "Assume that this model is used to predict the value of a label $y$ given a predictor $x$, i.e. assume $\\hat{y} = f(x)$. Let's use Python to calculate our model's prediction for three values of $x$, say $x=0, 1, 2$. We will start by implementing a **non-vectorised** approach:"
      ]
    },
    {
      "cell_type": "code",
      "metadata": {
        "id": "pXtQtv7sdkle",
        "colab": {
          "base_uri": "https://localhost:8080/"
        },
        "outputId": "a8f395b9-a3a4-4ca3-ef20-351ec7ccbd10"
      },
      "source": [
        "y_0 = -2 - 0*3/2 + 0**2*3/4 + 0**3*1/4\n",
        "print(\"The prediction for x=0 is:\", y_0)\n",
        "y_1 = -2 - 1*3/2 + 1**2*3/4 + 1**3*1/4\n",
        "print(\"The prediction for x=1 is:\", y_1)\n",
        "y_2 = -2 - 2*3/2 + 2**2*3/4 + 2**3*1/4\n",
        "print(\"The prediction for x=2 is:\", y_2)"
      ],
      "execution_count": 1,
      "outputs": [
        {
          "output_type": "stream",
          "name": "stdout",
          "text": [
            "The prediction for x=0 is: -2.0\n",
            "The prediction for x=1 is: -2.5\n",
            "The prediction for x=2 is: 0.0\n"
          ]
        }
      ]
    },
    {
      "cell_type": "markdown",
      "metadata": {
        "id": "_vxfGbzYe9kZ"
      },
      "source": [
        "Do you understand how we have calculated the predictions $f(0)$, $f(1)$ and $f(2)$? Note that in Python, `*` denotes multiplication and `**` is used to calculate the power of a number, for instance `2**3` calculates $2^3$.\n",
        "\n",
        "We have written down one line of code per prediction. When we have many predictions to make, writing a line of code per prediction is less than ideal. Using loops might seem like a good option that avoids writing many repetitive lines of code:"
      ]
    },
    {
      "cell_type": "code",
      "metadata": {
        "id": "-HURoUS8Pnto",
        "colab": {
          "base_uri": "https://localhost:8080/"
        },
        "outputId": "ec41fc19-8187-4ac3-c3f6-f66995c367b4"
      },
      "source": [
        "for x in [0, 1, 2]:\n",
        "  y = -2 - x*3/2 + x**2*3/4 + x**3*1/4\n",
        "  print(\"The prediction for x=\", x ,\"is:\", y)"
      ],
      "execution_count": 2,
      "outputs": [
        {
          "output_type": "stream",
          "name": "stdout",
          "text": [
            "The prediction for x= 0 is: -2.0\n",
            "The prediction for x= 1 is: -2.5\n",
            "The prediction for x= 2 is: 0.0\n"
          ]
        }
      ]
    },
    {
      "cell_type": "markdown",
      "metadata": {
        "id": "GDsF0U_APoHe"
      },
      "source": [
        "However this approach is still **computationally inefficient**, as it proceeds by computing one prediction at a time. The most efficient approach is to take advantage of **vectorised operations**, where collections of values are operated on at the same time. Let's see how this would work for our simple prediction example.\n",
        "\n",
        "The first step is to import NumPy:"
      ]
    },
    {
      "cell_type": "code",
      "metadata": {
        "id": "8LM7kjMcgM6E"
      },
      "source": [
        "import numpy as np\n",
        "np.set_printoptions(precision=3) # We do this to print up to 3 decimal places "
      ],
      "execution_count": 3,
      "outputs": []
    },
    {
      "cell_type": "markdown",
      "metadata": {
        "id": "fLC1n1m3haDD"
      },
      "source": [
        "We will use **vectorised arithmetic operations**. These operations are represented in the same way as the corresponding arithmetic operations for scalar numbers (`+`, `-`, `*`, `/`, `**`), but operate on NumPy arrays rather than individual values. Arithmetic operations act **elementwise**, i.e. the value of the $n$-th entry of the returned array depends on the values of the $n$-th entries of the input arrays only. The following cell illustrates how elementwise arithmetic operations work: "
      ]
    },
    {
      "cell_type": "code",
      "metadata": {
        "id": "XRX6561nhqPs",
        "colab": {
          "base_uri": "https://localhost:8080/"
        },
        "outputId": "46f0e7bc-1ec6-4fe3-f595-77e9a689ca66"
      },
      "source": [
        "a = np.array([1, 3])\n",
        "b = np.array([2,5])\n",
        "print(\"The sum a+b is equal to\", a+b)\n",
        "print(\"The square of b is\", b**2)"
      ],
      "execution_count": 4,
      "outputs": [
        {
          "output_type": "stream",
          "name": "stdout",
          "text": [
            "The sum a+b is equal to [3 8]\n",
            "The square of b is [ 4 25]\n"
          ]
        }
      ]
    },
    {
      "cell_type": "markdown",
      "metadata": {
        "id": "ES25sUdViXYR"
      },
      "source": [
        "We can now apply the model $f(x)$ to a NumPy array consisting of the predictor values $x=0, 1, 2$:"
      ]
    },
    {
      "cell_type": "code",
      "metadata": {
        "id": "1aBdt-QDhLI1",
        "colab": {
          "base_uri": "https://localhost:8080/"
        },
        "outputId": "7905d8d6-c4a2-43c3-de4c-4ee6b84d396b"
      },
      "source": [
        "x = np.array([[0],[1],[2]]) # x is a 1x3 column vector: 1 column and 3 rows\n",
        "print(\"The predictors x are\\n\", x)\n",
        "print(\"The square of x is\\n\", x**2)\n",
        "print(\"The cube of x is\\n\", x**3)\n",
        "y = -2 - x*3/2 + x**2*3/4 + x**3*1/4\n",
        "print(\"The predicted labels are:\\n\", y)"
      ],
      "execution_count": 5,
      "outputs": [
        {
          "output_type": "stream",
          "name": "stdout",
          "text": [
            "The predictors x are\n",
            " [[0]\n",
            " [1]\n",
            " [2]]\n",
            "The square of x is\n",
            " [[0]\n",
            " [1]\n",
            " [4]]\n",
            "The cube of x is\n",
            " [[0]\n",
            " [1]\n",
            " [8]]\n",
            "The predicted labels are:\n",
            " [[-2. ]\n",
            " [-2.5]\n",
            " [ 0. ]]\n"
          ]
        }
      ]
    },
    {
      "cell_type": "markdown",
      "metadata": {
        "id": "iw2bNcuwjEYd"
      },
      "source": [
        "We have not just reduced the number of lines of code (which is great, by the way). The line of code `y = -2 - x*3/2 + x**2*3/4 + x**3*1/4` operates on a NumPy array of dimensions 1x3, rather than operating 3 times on different values. Importantly, the NumPy array `x` can be of any size. In the following cell we create a vector `x` consisting of 100 values between -4 and 4 and use exactly the same line of code as above to obtain the corresponding predictions: "
      ]
    },
    {
      "cell_type": "code",
      "metadata": {
        "id": "Q2eeDC3Bi3Kk",
        "colab": {
          "base_uri": "https://localhost:8080/"
        },
        "outputId": "e26d8837-19ee-4395-9741-bddf1a21db0e"
      },
      "source": [
        "x = np.linspace(-4,4, 100)  \n",
        "print(\"The predictors x are:\", x)\n",
        "y = -2-x*3/2+x**2*3/4+x**3*1/4\n",
        "print(\"The predicted labels are:\", y)"
      ],
      "execution_count": 6,
      "outputs": [
        {
          "output_type": "stream",
          "name": "stdout",
          "text": [
            "The predictors x are: [-4.    -3.919 -3.838 -3.758 -3.677 -3.596 -3.515 -3.434 -3.354 -3.273\n",
            " -3.192 -3.111 -3.03  -2.949 -2.869 -2.788 -2.707 -2.626 -2.545 -2.465\n",
            " -2.384 -2.303 -2.222 -2.141 -2.061 -1.98  -1.899 -1.818 -1.737 -1.657\n",
            " -1.576 -1.495 -1.414 -1.333 -1.253 -1.172 -1.091 -1.01  -0.929 -0.848\n",
            " -0.768 -0.687 -0.606 -0.525 -0.444 -0.364 -0.283 -0.202 -0.121 -0.04\n",
            "  0.04   0.121  0.202  0.283  0.364  0.444  0.525  0.606  0.687  0.768\n",
            "  0.848  0.929  1.01   1.091  1.172  1.253  1.333  1.414  1.495  1.576\n",
            "  1.657  1.737  1.818  1.899  1.98   2.061  2.141  2.222  2.303  2.384\n",
            "  2.465  2.545  2.626  2.707  2.788  2.869  2.949  3.03   3.111  3.192\n",
            "  3.273  3.354  3.434  3.515  3.596  3.677  3.758  3.838  3.919  4.   ]\n",
            "The predicted labels are: [ 0.     0.349  0.67   0.962  1.228  1.467  1.681  1.871  2.036  2.179\n",
            "  2.299  2.398  2.476  2.534  2.573  2.594  2.597  2.584  2.554  2.51\n",
            "  2.451  2.379  2.294  2.196  2.088  1.969  1.841  1.704  1.559  1.407\n",
            "  1.248  1.083  0.914  0.741  0.564  0.385  0.204  0.023 -0.159 -0.34\n",
            " -0.52  -0.697 -0.871 -1.041 -1.207 -1.367 -1.521 -1.668 -1.808 -1.938\n",
            " -2.059 -2.17  -2.27  -2.359 -2.434 -2.497 -2.545 -2.578 -2.595 -2.596\n",
            " -2.58  -2.546 -2.492 -2.419 -2.326 -2.211 -2.074 -1.914 -1.731 -1.523\n",
            " -1.29  -1.031 -0.745 -0.432 -0.09   0.281  0.682  1.114  1.577  2.073\n",
            "  2.602  3.165  3.762  4.395  5.064  5.771  6.515  7.298  8.121  8.983\n",
            "  9.887 10.833 11.821 12.853 13.929 15.05  16.217 17.43  18.691 20.   ]\n"
          ]
        }
      ]
    },
    {
      "cell_type": "markdown",
      "metadata": {
        "id": "5Cqy2XaUj7Np"
      },
      "source": [
        "No matter what the size of `x` is, the code that we need to write is exactly the same. Printing all the values is **not a good idea**, though (after all, **who's going to read them**?). It is much more informative to plot the label `y` against the predictor `x`:"
      ]
    },
    {
      "cell_type": "code",
      "metadata": {
        "id": "SHe5W9Z4j-rd",
        "colab": {
          "base_uri": "https://localhost:8080/",
          "height": 287
        },
        "outputId": "73694fc6-3e54-4766-b226-0ca5a354bc9a"
      },
      "source": [
        "import matplotlib.pyplot as plt\n",
        "plt.plot(x, y, 'r.')\n",
        "plt.xlabel(\"x (predictor)\", fontsize=18)\n",
        "plt.ylabel(\"y (label)\", fontsize=18)\n",
        "plt.show()"
      ],
      "execution_count": 7,
      "outputs": [
        {
          "output_type": "display_data",
          "data": {
            "text/plain": [
              "<Figure size 432x288 with 1 Axes>"
            ],
            "image/png": "[encoded data removed]"
          },
          "metadata": {
            "needs_background": "light"
          }
        }
      ]
    },
    {
      "cell_type": "markdown",
      "metadata": {
        "id": "l22N0W8lbsLw"
      },
      "source": [
        "Here is something **worth remembering**. In machine learning we **represent our dataset using arrays** and our algorithms are implemented as **operations on arrays**. In the next sections we will explore an even better way to express calculations such as our cubic model $f(x)$."
      ]
    },
    {
      "cell_type": "markdown",
      "metadata": {
        "id": "6W5gWMELl2gu"
      },
      "source": [
        "# Basic operations on arrays\n",
        "\n",
        "The previous example should have persuaded you that working with arrays of values is better than working with each value separately. In this section we will review some of the most important operations on arrays.\n",
        "\n",
        "First, we will use `np.array` to create a **row vector** `x_r`, specifically a vector consisting of 1 row and 3 columns, and then we will use `np.transpose` to **transpose** it into a **column vector** `x_c` consisting of 3 rows and 1 column:"
      ]
    },
    {
      "cell_type": "code",
      "metadata": {
        "id": "M4-UHgXUtOpP",
        "colab": {
          "base_uri": "https://localhost:8080/"
        },
        "outputId": "3a0b7cf8-9e1b-454e-9630-434ea83502cc"
      },
      "source": [
        "x_r = np.array([0, 1, 2], ndmin=2)\n",
        "print(\"Vector x_r is:\\n\", x_r)\n",
        "print(\"The shape of x_r is :\", x_r.shape)\n",
        "x_c = np.transpose(x_r)\n",
        "print(\"\\nVector x_c is:\\n\", x_c)\n",
        "print(\"The shape of x_c is:\", x_c.shape)"
      ],
      "execution_count": 8,
      "outputs": [
        {
          "output_type": "stream",
          "name": "stdout",
          "text": [
            "Vector x_r is:\n",
            " [[0 1 2]]\n",
            "The shape of x_r is : (1, 3)\n",
            "\n",
            "Vector x_c is:\n",
            " [[0]\n",
            " [1]\n",
            " [2]]\n",
            "The shape of x_c is: (3, 1)\n"
          ]
        }
      ]
    },
    {
      "cell_type": "markdown",
      "metadata": {
        "id": "UncbEjhKS8C_"
      },
      "source": [
        "Note that we could have used `x_c = np.array([[0], [1], [2]])` to produce a column vector directly, instead of producing a row vector and then using transposition."
      ]
    },
    {
      "cell_type": "markdown",
      "metadata": {
        "id": "rq7rgwQLvYh9"
      },
      "source": [
        "Let's now use **column stacking** to create a **matrix** X consisting of 4 columns, specifically a column of ones and 3 columns storing the powers of `x_c` up to degree 3:"
      ]
    },
    {
      "cell_type": "code",
      "metadata": {
        "id": "wo4BASi3vtcq",
        "colab": {
          "base_uri": "https://localhost:8080/"
        },
        "outputId": "46c39327-015e-4348-fa32-67e1f948176f"
      },
      "source": [
        "X = np.column_stack([np.ones(x_c.shape), x_c, x_c**2, x_c**3])\n",
        "print(\"The design matrix X is:\\n\", X)\n",
        "print(\"\\nThe shape of the matrix X is\", X.shape)"
      ],
      "execution_count": 9,
      "outputs": [
        {
          "output_type": "stream",
          "name": "stdout",
          "text": [
            "The design matrix X is:\n",
            " [[1. 0. 0. 0.]\n",
            " [1. 1. 1. 1.]\n",
            " [1. 2. 4. 8.]]\n",
            "\n",
            "The shape of the matrix X is (3, 4)\n"
          ]
        }
      ]
    },
    {
      "cell_type": "markdown",
      "metadata": {
        "id": "wUp8MImWv9OA"
      },
      "source": [
        "And finally, some magic. In the following cell, we create a **column vector** `w_c` containing the coefficients of our cubic model $f(x)$ and obtain the predictions for `x_c` by calculating the matrix multiplication between `X` and `w_c` using `np.dot`:"
      ]
    },
    {
      "cell_type": "code",
      "metadata": {
        "id": "vU4NF3XowUtw",
        "colab": {
          "base_uri": "https://localhost:8080/"
        },
        "outputId": "da345ea3-e71e-404d-8803-20201d482791"
      },
      "source": [
        "w_c = np.array([[-2], [-3/2], [3/4], [1/4]])\n",
        "print(\"The coefficients of the polynomial model are:\\n\", w_c)\n",
        "y = np.dot(X,w_c)\n",
        "print(\"The predicted labels are:\\n\", y)\n"
      ],
      "execution_count": 10,
      "outputs": [
        {
          "output_type": "stream",
          "name": "stdout",
          "text": [
            "The coefficients of the polynomial model are:\n",
            " [[-2.  ]\n",
            " [-1.5 ]\n",
            " [ 0.75]\n",
            " [ 0.25]]\n",
            "The predicted labels are:\n",
            " [[-2. ]\n",
            " [-2.5]\n",
            " [ 0. ]]\n"
          ]
        }
      ]
    },
    {
      "cell_type": "markdown",
      "metadata": {
        "id": "CggDtMPkfHc9"
      },
      "source": [
        "Note that `X` represents a 3x4 matrix, `w_c` a 4x1 vector, and the output `y` is a 3x1 vector. What if we have 100 predictors? Same code, we first create a 100x4 NumPy matrix containing the powers of all the predictors and multiply it by the 4x1 coefficients vector, which returns a 100x1 prediction vector. This time, we won't print out all the predictions, as we have learnt it's not very useful:"
      ]
    },
    {
      "cell_type": "code",
      "metadata": {
        "id": "zU2bEd20gJL6",
        "colab": {
          "base_uri": "https://localhost:8080/",
          "height": 287
        },
        "outputId": "1c1fe968-8e32-4406-f4bc-f8ef57425ff5"
      },
      "source": [
        "x_r = np.linspace(-4,4,100)\n",
        "x_c = np.transpose(x_r)\n",
        "X = np.column_stack([np.ones(x_c.shape), x_c, x_c**2, x_c**3])\n",
        "y = np.dot(X,w_c)\n",
        "plt.plot(x_c, y, 'r.')\n",
        "plt.xlabel(\"x (predictor)\", fontsize=18)\n",
        "plt.ylabel(\"y (label)\", fontsize=18)\n",
        "plt.show()"
      ],
      "execution_count": 11,
      "outputs": [
        {
          "output_type": "display_data",
          "data": {
            "text/plain": [
              "<Figure size 432x288 with 1 Axes>"
            ],
            "image/png": "[encoded data removed]"
          },
          "metadata": {
            "needs_background": "light"
          }
        }
      ]
    },
    {
      "cell_type": "markdown",
      "metadata": {
        "id": "dv7oFht_hTft"
      },
      "source": [
        "In summary:\n",
        "\n",
        "- Our predictors have been represented as a **vector**.\n",
        "- We have created a **matrix** containing as columns an all-ones column and the powers of the predictor vector up to degree 3. Note that this matrix looks like the least squares design matrix! They are indeed identical.\n",
        "- We have represented the coefficients of $f(x)$ as a **vector**.\n",
        "- We have obtained the predicted labels using **matrix multiplication**.\n",
        "\n",
        "This is the **pro** way."
      ]
    },
    {
      "cell_type": "markdown",
      "metadata": {
        "id": "NvmupcJFiXSH"
      },
      "source": [
        "# Least squares\n",
        "\n",
        "Given a family of regression models, the least squares solution is the model that minimises the mean squared error on our training dataset. Consider the folowing **multiple linear model**:\n",
        "\n",
        "$\\begin{equation}\n",
        "f(x) = w_0 + w_1 x_1 + ... + w_K x_K\n",
        "\\end{equation}$\n",
        "\n",
        "where $x_1, ..., x_K$ are the predictors and $w_0, ..., w_K$ are the model's parameters. If we have a dataset consisting of $N$ samples, we can obtain the parameters of the least squares solution using the **normal equations** \n",
        "\n",
        "$\\begin{equation}\n",
        "\\mathbf{w} = (\\mathbf{X}^T\\mathbf{X})^{-1}\\mathbf{X}^T\\mathbf{y}\n",
        "\\end{equation}$\n",
        "\n",
        "where $\\mathbf{w}=[w_1, ... , w_K]^T$ are the parameters of the model, $\\mathbf{y}=[y_0, ..., y_N]^T$ are the true labels in the dataset and $\\mathbf{X}$ is the design matrix. The least squares solution for **simple polynomial regression** can be obtained following an identical approach. Given a polynomial model\n",
        "\n",
        "$\\begin{equation}\n",
        "f(x) = w_0 + w_1 x + ... + w_K x^K\n",
        "\\end{equation}$\n",
        "\n",
        "we can treat $x, x^2, ..., x^K$ as separate predictors, build the corresponding design matrix $\\mathbf{X}$ and use the normal equation.\n",
        "\n",
        "As you can see from the normal equations, obtaining the least square solution involves: \n",
        "\n",
        "- **Arrays** ($\\mathbf{w}$, $\\mathbf{y}$ and $\\mathbf{X}$).\n",
        "- **Transposition**.\n",
        "- **Matrix inversion**.\n",
        "- **Matrix multiplication**. \n",
        "\n",
        "Let's explore a simple regression problem. First, we will define and plot our training dataset, which consists 10 samples described by one predictor `x` and one label `y`."
      ]
    },
    {
      "cell_type": "code",
      "metadata": {
        "id": "45EJiGfDiWRV",
        "colab": {
          "base_uri": "https://localhost:8080/",
          "height": 291
        },
        "outputId": "b6c3542a-ef89-49cf-bab5-e2d48c38f344"
      },
      "source": [
        "x = np.array([1,2,3,5,7,8,2.5,8], ndmin=2).T\n",
        "y = np.array([2.2,3.5,3.9,2.9,5,6.2,3,4.8], ndmin=2).T\n",
        "\n",
        "plt.plot(x, y, 'o', label=\"Training Data\")\n",
        "plt.xlabel(\"x (attribute)\", fontsize=18)\n",
        "plt.ylabel(\"y (label)\", fontsize=18)\n",
        "plt.xlim(-1,1)\n",
        "plt.ylim(-0.5,2.5)\n",
        "plt.grid(alpha=0.2)\n",
        "plt.legend(fontsize=12)\n",
        "plt.show()"
      ],
      "execution_count": 12,
      "outputs": [
        {
          "output_type": "display_data",
          "data": {
            "text/plain": [
              "<Figure size 432x288 with 1 Axes>"
            ],
            "image/png": "[encoded data removed]"
          },
          "metadata": {
            "needs_background": "light"
          }
        }
      ]
    },
    {
      "cell_type": "markdown",
      "metadata": {
        "id": "k9jYiqJeavhD"
      },
      "source": [
        "Note that here we have obtained the transpose of two row vectors using `.T` instead of `np.transpose`. Both options are equivalent. The most important point is that `x` and `y` are two column vectors consisting of 10 rows and 1 column, i.e. 10x1 vectors:"
      ]
    },
    {
      "cell_type": "code",
      "metadata": {
        "id": "8lmVZD3YbDcN",
        "colab": {
          "base_uri": "https://localhost:8080/"
        },
        "outputId": "81903666-13f9-4ff9-d4e3-54e1d33ba716"
      },
      "source": [
        "print(x.shape)\n",
        "print(y.shape)"
      ],
      "execution_count": 13,
      "outputs": [
        {
          "output_type": "stream",
          "name": "stdout",
          "text": [
            "(8, 1)\n",
            "(8, 1)\n"
          ]
        }
      ]
    },
    {
      "cell_type": "markdown",
      "metadata": {
        "id": "MgVr8pN-dAq0"
      },
      "source": [
        "Let's obtain the least squares solution for a simple linear model $f(x) = w_0 + w_1 x$. We need to calculate the design matrix first and then use the normal equation. We will show the calculations involved in the normal equations step by step:\n",
        "\n",
        "Step 1:  $X^TX$\n",
        "\n",
        "Step 2: $(X^TX)^{-1}$\n",
        "\n",
        "Step 3: $(X^TX)^{-1}X^T$"
      ]
    },
    {
      "cell_type": "code",
      "metadata": {
        "id": "knhPStnWciuM",
        "colab": {
          "base_uri": "https://localhost:8080/"
        },
        "outputId": "f271db37-ab83-445c-ce4e-4b51c94ebc27"
      },
      "source": [
        "X = np.column_stack([np.ones(x.shape), x])\n",
        "print(\"The design matrix is:\\n\", X)\n",
        "\n",
        "XTX = np.dot(X.T, X) # Step 1\n",
        "XTX_inv = np.linalg.inv(XTX) # Step 2\n",
        "XTX_invXT = np.dot(XTX_inv, X.T) # Step 3\n",
        "\n",
        "w = np.dot(XTX_invXT, y)\n",
        "print(\"The 2 parameters of the least squares linear solution are\\n\", w)"
      ],
      "execution_count": 14,
      "outputs": [
        {
          "output_type": "stream",
          "name": "stdout",
          "text": [
            "The design matrix is:\n",
            " [[1.  1. ]\n",
            " [1.  2. ]\n",
            " [1.  3. ]\n",
            " [1.  5. ]\n",
            " [1.  7. ]\n",
            " [1.  8. ]\n",
            " [1.  2.5]\n",
            " [1.  8. ]]\n",
            "The 2 parameters of the least squares linear solution are\n",
            " [[2.121]\n",
            " [0.398]]\n"
          ]
        }
      ]
    },
    {
      "cell_type": "markdown",
      "metadata": {
        "id": "gBXhwYgdDNfv"
      },
      "source": [
        "Now that we have the parameters $w_0$ and $w_1$ of the linear model, we can use them to predict the labels of 100 predictors uniformly spaced between -1 and 1:"
      ]
    },
    {
      "cell_type": "code",
      "metadata": {
        "id": "jHJlUMA0DXQC",
        "colab": {
          "base_uri": "https://localhost:8080/",
          "height": 291
        },
        "outputId": "7bbefa63-7373-4104-b1a5-22e16ace397e"
      },
      "source": [
        "x_LS = np.linspace(-1,1,100).T\n",
        "X_LS = np.column_stack([np.ones(x_LS.shape), x_LS])\n",
        "y_LS = np.dot(X_LS, w)\n",
        "\n",
        "\n",
        "plt.plot(x, y, 'o', label=\"Dataset\")\n",
        "plt.plot(x_LS, y_LS, label=\"Linear prediction\")\n",
        "plt.xlabel(\"x (attribute)\", fontsize=18)\n",
        "plt.ylabel(\"y (label)\", fontsize=18)\n",
        "plt.xlim(-1,1)\n",
        "plt.ylim(-0.5,2.5)\n",
        "plt.grid(alpha=0.2)\n",
        "plt.legend(fontsize=12)\n",
        "plt.show()"
      ],
      "execution_count": 15,
      "outputs": [
        {
          "output_type": "display_data",
          "data": {
            "text/plain": [
              "<Figure size 432x288 with 1 Axes>"
            ],
            "image/png": "[encoded data removed]"
          },
          "metadata": {
            "needs_background": "light"
          }
        }
      ]
    },
    {
      "cell_type": "markdown",
      "metadata": {
        "id": "0Uls_RA7F1iF"
      },
      "source": [
        "Let's do the same for a quadratic model. Note that our design matrix will include a new column with the squares of the predictors and instead of 2, we will have 3 parameters ($w_0$, $w_1$ and $w_2$):"
      ]
    },
    {
      "cell_type": "code",
      "metadata": {
        "id": "dasliChiGNXS",
        "colab": {
          "base_uri": "https://localhost:8080/",
          "height": 524
        },
        "outputId": "568be710-33cb-4ebc-866c-f5027d787e25"
      },
      "source": [
        "X = np.column_stack([np.ones(x.shape), x, x**2]) # Note we are including powers up to 3, the square of the predictors\n",
        "print(\"The design matrix is:\\n\", X)\n",
        "\n",
        "XTX = np.dot(X.T, X)\n",
        "XTX_inv = np.linalg.inv(XTX)\n",
        "XTX_invXT = np.dot(XTX_inv, X.T)\n",
        "\n",
        "w = np.dot(XTX_invXT, y)\n",
        "print(\"The 3 parameters of the least squares quadratic solution are\\n\", w)\n",
        "\n",
        "X_LS = np.column_stack([np.ones(x_LS.shape), x_LS, x_LS**2])\n",
        "y_LS = np.dot(X_LS, w)\n",
        "\n",
        "\n",
        "plt.plot(x, y, 'o', label=\"Dataset\")\n",
        "plt.plot(x_LS, y_LS, label=\"Quadratic prediction\")\n",
        "plt.xlabel(\"x (attribute)\", fontsize=18)\n",
        "plt.ylabel(\"y (label)\", fontsize=18)\n",
        "plt.xlim(-1,1)\n",
        "plt.ylim(-0.5,2.5)\n",
        "plt.grid(alpha=0.2)\n",
        "plt.legend(fontsize=12)\n",
        "plt.show()"
      ],
      "execution_count": 16,
      "outputs": [
        {
          "output_type": "stream",
          "name": "stdout",
          "text": [
            "The design matrix is:\n",
            " [[ 1.    1.    1.  ]\n",
            " [ 1.    2.    4.  ]\n",
            " [ 1.    3.    9.  ]\n",
            " [ 1.    5.   25.  ]\n",
            " [ 1.    7.   49.  ]\n",
            " [ 1.    8.   64.  ]\n",
            " [ 1.    2.5   6.25]\n",
            " [ 1.    8.   64.  ]]\n",
            "The 3 parameters of the least squares quadratic solution are\n",
            " [[2.717]\n",
            " [0.035]\n",
            " [0.038]]\n"
          ]
        },
        {
          "output_type": "display_data",
          "data": {
            "text/plain": [
              "<Figure size 432x288 with 1 Axes>"
            ],
            "image/png": "[encoded data removed]"
          },
          "metadata": {
            "needs_background": "light"
          }
        }
      ]
    },
    {
      "cell_type": "markdown",
      "metadata": {
        "id": "IQQ3O7d7GiSM"
      },
      "source": [
        "The least squares solution for a cubic model consists of four parameters and will be obtained in an identical fashion:"
      ]
    },
    {
      "cell_type": "markdown",
      "source": [
        "How to do this... [For Cubic Least squared] Finding x = 6\n",
        "\n",
        "1. Get 4 of the parameters from below\n",
        "\n",
        "2. replace with the w0, w1, w2...\n",
        "\n",
        "3. Replace x with 6 [the number to find in this case x = 6]\n",
        "\n",
        "4. So 0.650 + (0.456*6) + (0.3 * 6^2).....\n",
        "\n",
        "Question: Using least squares, fit a cubic model f(x) = w0 + w1 x + w2 x2 + w3 x3 to the dataset presented in Exercise 4 of the regression worksheet. What is the value predicted by the model for x = 6? Round the value of the prediction to 2 decimal places.\n"
      ],
      "metadata": {
        "id": "uDI8iNVG2qxC"
      }
    },
    {
      "cell_type": "code",
      "metadata": {
        "id": "Wp1ZAGXsGh7Q",
        "colab": {
          "base_uri": "https://localhost:8080/",
          "height": 538
        },
        "outputId": "494681be-2349-4b7d-89ad-82700ba2dfdb"
      },
      "source": [
        "X = np.column_stack([np.ones(x.shape), x, x**2, x**3]) # Note we are including powers up to 3, the cube of the predictors\n",
        "print(\"The design matrix is:\\n\", X)\n",
        "\n",
        "XTX = np.dot(X.T, X)\n",
        "XTX_inv = np.linalg.inv(XTX)\n",
        "XTX_invXT = np.dot(XTX_inv, X.T)\n",
        "\n",
        "w = np.dot(XTX_invXT, y)\n",
        "print(\"The 4 parameters of the least squares cubic solution are\\n\", w)\n",
        "\n",
        "X_LS = np.column_stack([np.ones(x_LS.shape), x_LS, x_LS**2, x_LS**3])\n",
        "y_LS = np.dot(X_LS, w)\n",
        "\n",
        "\n",
        "plt.plot(x, y, 'o', label=\"Dataset\")\n",
        "plt.plot(x_LS, y_LS, label=\"Cubic prediction\")\n",
        "plt.xlabel(\"x (attribute)\", fontsize=18)\n",
        "plt.ylabel(\"y (label)\", fontsize=18)\n",
        "plt.xlim()\n",
        "plt.ylim()\n",
        "plt.grid(alpha=0.2)\n",
        "plt.legend(fontsize=12)\n",
        "plt.show()"
      ],
      "execution_count": 19,
      "outputs": [
        {
          "output_type": "stream",
          "name": "stdout",
          "text": [
            "The design matrix is:\n",
            " [[  1.      1.      1.      1.   ]\n",
            " [  1.      2.      4.      8.   ]\n",
            " [  1.      3.      9.     27.   ]\n",
            " [  1.      5.     25.    125.   ]\n",
            " [  1.      7.     49.    343.   ]\n",
            " [  1.      8.     64.    512.   ]\n",
            " [  1.      2.5     6.25   15.625]\n",
            " [  1.      8.     64.    512.   ]]\n",
            "The 4 parameters of the least squares cubic solution are\n",
            " [[ 0.843]\n",
            " [ 1.952]\n",
            " [-0.474]\n",
            " [ 0.038]]\n"
          ]
        },
        {
          "output_type": "display_data",
          "data": {
            "text/plain": [
              "<Figure size 432x288 with 1 Axes>"
            ],
            "image/png": "[encoded data removed]"
          },
          "metadata": {
            "needs_background": "light"
          }
        }
      ]
    },
    {
      "cell_type": "markdown",
      "metadata": {
        "id": "AMuyfSvpHB2T"
      },
      "source": [
        "Finally, let's obtain the least squares solution of a polynomial of degree 4. However, lets put steps 1 to 3 into a single line of code:"
      ]
    },
    {
      "cell_type": "code",
      "metadata": {
        "id": "fYwZumZTHFZc",
        "colab": {
          "base_uri": "https://localhost:8080/",
          "height": 560
        },
        "outputId": "1bea598a-2441-4647-9040-98e1b5660163"
      },
      "source": [
        "\n",
        "\n",
        "X = np.column_stack([np.ones(x.shape), x, x**2, x**3, x**4]) # Note we are including powers up to 4!\n",
        "print(\"The design matrix is:\\n\", X)\n",
        "\n",
        "w = np.dot(np.dot(np.linalg.inv(np.dot(X.T, X)), X.T), y)\n",
        "print(\"The 5 parameters of the least squares 4-degree solution are\\n\", w)\n",
        "\n",
        "X_LS = np.column_stack([np.ones(x_LS.shape), x_LS, x_LS**2, x_LS**3, x_LS**4])\n",
        "y_LS = np.dot(X_LS, w)\n",
        "\n",
        "\n",
        "plt.plot(x, y, 'o', label=\"Dataset\")\n",
        "plt.plot(x_LS, y_LS, label=\"Degree 4 prediction\")\n",
        "plt.xlabel(\"x (attribute)\", fontsize=18)\n",
        "plt.ylabel(\"y (label)\", fontsize=18)\n",
        "plt.xlim(-1,1)\n",
        "plt.ylim(-0.5,2.5)\n",
        "plt.grid(alpha=0.2)\n",
        "plt.legend(fontsize=12)\n",
        "plt.show()"
      ],
      "execution_count": 18,
      "outputs": [
        {
          "output_type": "stream",
          "name": "stdout",
          "text": [
            "The design matrix is:\n",
            " [[1.000e+00 1.000e+00 1.000e+00 1.000e+00 1.000e+00]\n",
            " [1.000e+00 2.000e+00 4.000e+00 8.000e+00 1.600e+01]\n",
            " [1.000e+00 3.000e+00 9.000e+00 2.700e+01 8.100e+01]\n",
            " [1.000e+00 5.000e+00 2.500e+01 1.250e+02 6.250e+02]\n",
            " [1.000e+00 7.000e+00 4.900e+01 3.430e+02 2.401e+03]\n",
            " [1.000e+00 8.000e+00 6.400e+01 5.120e+02 4.096e+03]\n",
            " [1.000e+00 2.500e+00 6.250e+00 1.562e+01 3.906e+01]\n",
            " [1.000e+00 8.000e+00 6.400e+01 5.120e+02 4.096e+03]]\n",
            "The 5 parameters of the least squares 4-degree solution are\n",
            " [[-2.283]\n",
            " [ 6.701]\n",
            " [-2.645]\n",
            " [ 0.408]\n",
            " [-0.021]]\n"
          ]
        },
        {
          "output_type": "display_data",
          "data": {
            "text/plain": [
              "<Figure size 432x288 with 1 Axes>"
            ],
            "image/png": "[encoded data removed]"
          },
          "metadata": {
            "needs_background": "light"
          }
        }
      ]
    },
    {
      "cell_type": "markdown",
      "metadata": {
        "id": "Ne5H1LL3jOcs"
      },
      "source": [
        "# Summary\n",
        "\n",
        "In this lab, we have covered several **operations** on NumPy arrays, specifically:\n",
        "\n",
        "- **Arithmetic operations**: `+`, `-`, `*`, `/`, `**`. \n",
        "- **Transposition**: Given a matrix `X`, its transpose is `np.transpose(X)` and also `X.T`.\n",
        "- **Column stacking**: Given several vectors with the same shape, for instance `x1`, `x2` and `x3`, they can be stacked together using `np.column_stack([x1, x2, x3])`.\n",
        "- **Matrix multiplication**: Given two matrices `X` and `Y` (with the right dimensions!), we can multiply them by typing `np.dot(X,Y)`.\n",
        "- **Matrix inversion**: The inverse of a matrix `X` can be obtained as `np.linalg.inv(X)`.\n",
        "\n",
        "With these basic operations, and after representing our data as NumPy arrays, we have writen code to:\n",
        "\n",
        "- Obtain the predicted label of a dataset consisting of any number of samples.\n",
        "- Obtain the least square solution for linear and polynomial models.\n",
        "\n",
        "When you are ready, have a go at the quiz. You will need to use one of the datasets from the regression exercises.\n"
      ]
    }
  ]
}